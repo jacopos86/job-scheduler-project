{
 "cells": [
  {
   "cell_type": "code",
   "execution_count": 1,
   "id": "charged-ideal",
   "metadata": {},
   "outputs": [],
   "source": [
    "# import modules\n",
    "import numpy as np\n",
    "import matplotlib.pyplot as plt\n",
    "import random\n",
    "import pandas as pd"
   ]
  },
  {
   "cell_type": "markdown",
   "id": "figured-litigation",
   "metadata": {},
   "source": [
    "# Extract data from file - section"
   ]
  },
  {
   "cell_type": "code",
   "execution_count": 6,
   "id": "bigger-pakistan",
   "metadata": {},
   "outputs": [
    {
     "data": {
      "text/html": [
       "<div>\n",
       "<style scoped>\n",
       "    .dataframe tbody tr th:only-of-type {\n",
       "        vertical-align: middle;\n",
       "    }\n",
       "\n",
       "    .dataframe tbody tr th {\n",
       "        vertical-align: top;\n",
       "    }\n",
       "\n",
       "    .dataframe thead th {\n",
       "        text-align: right;\n",
       "    }\n",
       "</style>\n",
       "<table border=\"1\" class=\"dataframe\">\n",
       "  <thead>\n",
       "    <tr style=\"text-align: right;\">\n",
       "      <th></th>\n",
       "      <th>&lt;at_i+1 - at_i&gt;</th>\n",
       "      <th>&lt;bst&gt;</th>\n",
       "    </tr>\n",
       "  </thead>\n",
       "  <tbody>\n",
       "    <tr>\n",
       "      <th>0</th>\n",
       "      <td>0</td>\n",
       "      <td>0</td>\n",
       "    </tr>\n",
       "    <tr>\n",
       "      <th>1</th>\n",
       "      <td>0</td>\n",
       "      <td>1</td>\n",
       "    </tr>\n",
       "    <tr>\n",
       "      <th>2</th>\n",
       "      <td>0</td>\n",
       "      <td>2</td>\n",
       "    </tr>\n",
       "    <tr>\n",
       "      <th>3</th>\n",
       "      <td>0</td>\n",
       "      <td>3</td>\n",
       "    </tr>\n",
       "    <tr>\n",
       "      <th>4</th>\n",
       "      <td>0</td>\n",
       "      <td>4</td>\n",
       "    </tr>\n",
       "  </tbody>\n",
       "</table>\n",
       "</div>"
      ],
      "text/plain": [
       "   <at_i+1 - at_i>  <bst>\n",
       "0                0      0\n",
       "1                0      1\n",
       "2                0      2\n",
       "3                0      3\n",
       "4                0      4"
      ]
     },
     "execution_count": 6,
     "metadata": {},
     "output_type": "execute_result"
    }
   ],
   "source": [
    "f = open('data', 'r')\n",
    "lines = f.readlines()\n",
    "f.close()\n",
    "at_aver = []\n",
    "bst_aver = []\n",
    "for line in lines:\n",
    "    l = line.split()\n",
    "    at_aver.append(int(l[0]))\n",
    "    bst_aver.append(int(l[1]))\n",
    "aver_data = np.zeros((len(at_aver), 2), dtype=int)\n",
    "for i in range(len(at_aver)):\n",
    "    aver_data[i,0] = at_aver[i]\n",
    "    aver_data[i,1] = bst_aver[i]\n",
    "df = pd.DataFrame(aver_data)\n",
    "df.columns = ['<at_i+1 - at_i>', '<bst>']\n",
    "df.head()"
   ]
  },
  {
   "cell_type": "markdown",
   "id": "hawaiian-truth",
   "metadata": {},
   "source": [
    "# Read RR 1"
   ]
  },
  {
   "cell_type": "code",
   "execution_count": 7,
   "id": "flush-institute",
   "metadata": {},
   "outputs": [
    {
     "data": {
      "text/html": [
       "<div>\n",
       "<style scoped>\n",
       "    .dataframe tbody tr th:only-of-type {\n",
       "        vertical-align: middle;\n",
       "    }\n",
       "\n",
       "    .dataframe tbody tr th {\n",
       "        vertical-align: top;\n",
       "    }\n",
       "\n",
       "    .dataframe thead th {\n",
       "        text-align: right;\n",
       "    }\n",
       "</style>\n",
       "<table border=\"1\" class=\"dataframe\">\n",
       "  <thead>\n",
       "    <tr style=\"text-align: right;\">\n",
       "      <th></th>\n",
       "      <th>&lt;at_i+1 - at_i&gt;</th>\n",
       "      <th>&lt;bst&gt;</th>\n",
       "      <th>&lt;wt&gt; (RR_1)</th>\n",
       "      <th>&lt;tat&gt; (RR_1)</th>\n",
       "    </tr>\n",
       "  </thead>\n",
       "  <tbody>\n",
       "    <tr>\n",
       "      <th>0</th>\n",
       "      <td>0</td>\n",
       "      <td>0</td>\n",
       "      <td>499.5</td>\n",
       "      <td>3830.52</td>\n",
       "    </tr>\n",
       "    <tr>\n",
       "      <th>1</th>\n",
       "      <td>0</td>\n",
       "      <td>1</td>\n",
       "      <td>499.5</td>\n",
       "      <td>4086.58</td>\n",
       "    </tr>\n",
       "    <tr>\n",
       "      <th>2</th>\n",
       "      <td>0</td>\n",
       "      <td>2</td>\n",
       "      <td>499.5</td>\n",
       "      <td>3941.51</td>\n",
       "    </tr>\n",
       "    <tr>\n",
       "      <th>3</th>\n",
       "      <td>0</td>\n",
       "      <td>3</td>\n",
       "      <td>499.5</td>\n",
       "      <td>4299.58</td>\n",
       "    </tr>\n",
       "    <tr>\n",
       "      <th>4</th>\n",
       "      <td>0</td>\n",
       "      <td>4</td>\n",
       "      <td>499.5</td>\n",
       "      <td>4343.24</td>\n",
       "    </tr>\n",
       "  </tbody>\n",
       "</table>\n",
       "</div>"
      ],
      "text/plain": [
       "   <at_i+1 - at_i>  <bst>  <wt> (RR_1)  <tat> (RR_1)\n",
       "0                0      0        499.5       3830.52\n",
       "1                0      1        499.5       4086.58\n",
       "2                0      2        499.5       3941.51\n",
       "3                0      3        499.5       4299.58\n",
       "4                0      4        499.5       4343.24"
      ]
     },
     "execution_count": 7,
     "metadata": {},
     "output_type": "execute_result"
    }
   ],
   "source": [
    "f = open(\"RR_ALG+1\", 'r')\n",
    "lines = f.readlines()\n",
    "f.close()\n",
    "tat = []\n",
    "wt = []\n",
    "for line in lines:\n",
    "    l = line.split()\n",
    "    tat.append(float(l[1]))\n",
    "    wt.append(float(l[0]))\n",
    "tat = np.array(tat)\n",
    "wt = np.array(wt)\n",
    "df['<wt> (RR_1)'] = wt\n",
    "df['<tat> (RR_1)'] = tat\n",
    "df.head()"
   ]
  },
  {
   "cell_type": "markdown",
   "id": "changing-shanghai",
   "metadata": {},
   "source": [
    "# Read RR 2"
   ]
  },
  {
   "cell_type": "code",
   "execution_count": null,
   "id": "compact-census",
   "metadata": {},
   "outputs": [],
   "source": []
  },
  {
   "cell_type": "code",
   "execution_count": null,
   "id": "personal-salon",
   "metadata": {},
   "outputs": [],
   "source": []
  },
  {
   "cell_type": "code",
   "execution_count": null,
   "id": "stunning-offer",
   "metadata": {},
   "outputs": [],
   "source": []
  },
  {
   "cell_type": "code",
   "execution_count": null,
   "id": "considerable-spotlight",
   "metadata": {},
   "outputs": [],
   "source": []
  }
 ],
 "metadata": {
  "kernelspec": {
   "display_name": "Python 3",
   "language": "python",
   "name": "python3"
  },
  "language_info": {
   "codemirror_mode": {
    "name": "ipython",
    "version": 3
   },
   "file_extension": ".py",
   "mimetype": "text/x-python",
   "name": "python",
   "nbconvert_exporter": "python",
   "pygments_lexer": "ipython3",
   "version": "3.8.12"
  }
 },
 "nbformat": 4,
 "nbformat_minor": 5
}
